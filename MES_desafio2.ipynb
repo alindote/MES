{
  "nbformat": 4,
  "nbformat_minor": 0,
  "metadata": {
    "colab": {
      "provenance": [],
      "authorship_tag": "ABX9TyOJyP3XMI7MJvZN2VYOED9n",
      "include_colab_link": true
    },
    "kernelspec": {
      "name": "python3",
      "display_name": "Python 3"
    },
    "language_info": {
      "name": "python"
    }
  },
  "cells": [
    {
      "cell_type": "markdown",
      "metadata": {
        "id": "view-in-github",
        "colab_type": "text"
      },
      "source": [
        "<a href=\"https://colab.research.google.com/github/alindote/MES/blob/desafios/MES_desafio2.ipynb\" target=\"_parent\"><img src=\"https://colab.research.google.com/assets/colab-badge.svg\" alt=\"Open In Colab\"/></a>"
      ]
    },
    {
      "cell_type": "code",
      "execution_count": 4,
      "metadata": {
        "colab": {
          "base_uri": "https://localhost:8080/"
        },
        "id": "AQS6ynJHX5yp",
        "outputId": "89a4454b-2d15-4559-c038-30663ce3e71a"
      },
      "outputs": [
        {
          "output_type": "stream",
          "name": "stdout",
          "text": [
            "Integração analítica:  180\n",
            "Integração estimada po MC: 180.39\n",
            "Erro relativo (%): 0.214\n"
          ]
        }
      ],
      "source": [
        "import numpy as np\n",
        "import numpy.random as rnd\n",
        "import matplotlib.pyplot as plt\n",
        "\n",
        "M_0 = 180   # Valor do integral\n",
        "\n",
        "def rho(x,y,z):\n",
        "    return x**2 * y * (np.cos(np.pi*z) + 2)\n",
        "\n",
        "N = 10**5 # número de amostras\n",
        "\n",
        "# gerar três arrays de aleatórios de tamanho N, dentro dos limites dos integrais\n",
        "r1 = 3*rnd.random(N)\n",
        "r2 = 2*rnd.random(N)\n",
        "r3 = 5*rnd.random(N)\n",
        "\n",
        "# Obter o array com as estimativas da massa\n",
        "M = rho(r1,r2,r3)\n",
        "\n",
        "M_mc = 3*2*5*M.sum()/N\n",
        "\n",
        "print('Integração analítica: ', M_0)\n",
        "print('Integração estimada po MC: {:.5}'.format(M_mc))\n",
        "print('Erro relativo (%): {:.3}'.format(100 * np.abs(M_0 - M_mc)/M_0))\n"
      ]
    },
    {
      "cell_type": "code",
      "source": [],
      "metadata": {
        "id": "rYQ83C2bZsmw"
      },
      "execution_count": 2,
      "outputs": []
    }
  ]
}